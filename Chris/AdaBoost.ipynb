{
 "cells": [
  {
   "cell_type": "code",
   "execution_count": 48,
   "metadata": {
    "collapsed": true
   },
   "outputs": [],
   "source": [
    "# Import random shit\n",
    "import numpy as np\n",
    "import matplotlib.pyplot as plt\n",
    "\n",
    "# Get that yum yum sklearn\n",
    "from sklearn import tree\n",
    "from sklearn.ensemble import RandomForestClassifier\n",
    "from sklearn.preprocessing import StandardScaler\n",
    "from sklearn.ensemble import AdaBoostClassifier\n",
    "\n",
    "# Cross validation\n",
    "from sklearn.model_selection import cross_val_score\n",
    "from sklearn.model_selection import ShuffleSplit\n",
    "\n",
    "%matplotlib inline"
   ]
  },
  {
   "cell_type": "code",
   "execution_count": 2,
   "metadata": {
    "collapsed": true
   },
   "outputs": [],
   "source": [
    "# Load our data and shit\n",
    "train_data = np.loadtxt('./training_data.txt', skiprows=1, delimiter=' ')\n",
    "test_data = np.loadtxt('./test_data.txt', skiprows=1, delimiter=' ')"
   ]
  },
  {
   "cell_type": "code",
   "execution_count": 51,
   "metadata": {},
   "outputs": [],
   "source": [
    "# Split training and test set into x and y\n",
    "scaler = StandardScaler()\n",
    "x_train = scaler.fit_transform(train_data[:, 1:])\n",
    "y_train = train_data[:, 0]\n",
    "\n",
    "x_test = scaler.transform(test_data)"
   ]
  },
  {
   "cell_type": "code",
   "execution_count": 38,
   "metadata": {
    "collapsed": true
   },
   "outputs": [],
   "source": [
    "# Try a random forest classifier\n",
    "n_estimators = 1000\n",
    "clf = RandomForestClassifier(n_estimators = n_estimators, min_samples_leaf=100, n_jobs=-1, criterion = 'gini')\n",
    "\n",
    "clf.fit(x_train, y_train)\n",
    "\n",
    "y_test = clf.predict(x_test)"
   ]
  },
  {
   "cell_type": "code",
   "execution_count": 28,
   "metadata": {},
   "outputs": [],
   "source": [
    "def convert(y_test, filename):\n",
    "    \"\"\"\n",
    "    Converts the y_test vector to submission file and saves to filename\n",
    "    \n",
    "    Inputs:\n",
    "        y_test: A (N, ) array with the predicted results for the test set\n",
    "        filename: String name of file\n",
    "        \n",
    "    Outputs:\n",
    "        None\n",
    "    \"\"\"\n",
    "    \n",
    "    text_file = np.array([[i+1, int(y_test[i])] for i in range(len(y_test))])\n",
    "    np.savetxt(filename, text_file, fmt='%d', delimiter=',')\n",
    "    \n",
    "    f = open(filename,'r+')\n",
    "    lines = f.readlines() # read old content\n",
    "    f.seek(0) # go back to the beginning of the file\n",
    "    f.write('Id,Prediction\\n') # write new content at the beginning\n",
    "    for line in lines: # write old content after new\n",
    "        f.write(line)\n",
    "    f.close()"
   ]
  },
  {
   "cell_type": "code",
   "execution_count": 39,
   "metadata": {},
   "outputs": [],
   "source": [
    "convert(y_test, 'sub3.txt')"
   ]
  },
  {
   "cell_type": "code",
   "execution_count": 73,
   "metadata": {},
   "outputs": [
    {
     "name": "stdout",
     "output_type": "stream",
     "text": [
      "Max depth of base estimator: 1\n",
      "Learning rate: 1.00\n",
      "Learning rate: 0.95\n",
      "Learning rate: 0.80\n",
      "Max depth of base estimator: 2\n",
      "Learning rate: 1.00\n",
      "Learning rate: 0.95\n",
      "Learning rate: 0.80\n",
      "Max depth of base estimator: 3\n",
      "Learning rate: 1.00\n",
      "Learning rate: 0.95\n",
      "Learning rate: 0.80\n",
      "Max depth of base estimator: 4\n",
      "Learning rate: 1.00\n",
      "Learning rate: 0.95\n",
      "Learning rate: 0.80\n"
     ]
    }
   ],
   "source": [
    "# Try AdaBoost\n",
    "depths = np.arange(1, 5)\n",
    "errors = np.empty((len(depths), 3))\n",
    "tree_clf = tree.DecisionTreeClassifier()\n",
    "clf = AdaBoostClassifier(base_estimator=tree_clf, n_estimators=100)\n",
    "ss = ShuffleSplit(n_splits=5, test_size=0.2, random_state=0)\n",
    "\n",
    "for ind, max_depth in enumerate(depths):\n",
    "    print('Max depth of base estimator: {0:d}'.format(max_depth))\n",
    "    tree_clf.set_params(max_depth=max_depth)\n",
    "    clf.set_params(base_estimator=tree_clf)\n",
    "    learn_errs = []\n",
    "    for learning_rate in [1, 0.95, 0.8]:\n",
    "        print('Learning rate: {0:.2f}'.format(learning_rate))\n",
    "        clf.set_params(learning_rate=learning_rate)\n",
    "        learn_errs.append(np.mean(cross_val_score(clf, x_train, y_train, cv=ss)))\n",
    "    errors[ind] = learn_errs"
   ]
  },
  {
   "cell_type": "code",
   "execution_count": 74,
   "metadata": {},
   "outputs": [
    {
     "data": {
      "text/plain": [
       "<matplotlib.legend.Legend at 0x2110b963710>"
      ]
     },
     "execution_count": 74,
     "metadata": {},
     "output_type": "execute_result"
    },
    {
     "data": {
      "image/png": "[encoded data removed]",
      "text/plain": [
       "<matplotlib.figure.Figure at 0x2110b8fdf98>"
      ]
     },
     "metadata": {},
     "output_type": "display_data"
    }
   ],
   "source": [
    "plt.figure()\n",
    "plt.plot(depths, errors[:, 0], label='Learning rate: 1')\n",
    "plt.plot(depths, errors[:, 1], label='Learning rate: 0.95')\n",
    "plt.plot(depths, errors[:, 2], label='Learning rate: 0.8')\n",
    "plt.legend()"
   ]
  },
  {
   "cell_type": "code",
   "execution_count": 47,
   "metadata": {},
   "outputs": [
    {
     "data": {
      "text/plain": [
       "[<matplotlib.lines.Line2D at 0x211278374e0>]"
      ]
     },
     "execution_count": 47,
     "metadata": {},
     "output_type": "execute_result"
    },
    {
     "data": {
      "image/png": "[encoded data removed]",
      "text/plain": [
       "<matplotlib.figure.Figure at 0x2113b876630>"
      ]
     },
     "metadata": {},
     "output_type": "display_data"
    }
   ],
   "source": [
    "plt.figure()\n",
    "plt.plot(depths, errors)"
   ]
  },
  {
   "cell_type": "code",
   "execution_count": 75,
   "metadata": {
    "collapsed": true
   },
   "outputs": [],
   "source": [
    "# Now use our best performing model to predict y\n",
    "tree_clf = tree.DecisionTreeClassifier(max_depth=2)\n",
    "clf = AdaBoostClassifier(base_estimator=tree_clf, n_estimators=1000, learning_rate=0.95)\n",
    "\n",
    "clf.fit(x_train, y_train)\n",
    "y_test = clf.predict(x_test)"
   ]
  },
  {
   "cell_type": "code",
   "execution_count": 76,
   "metadata": {},
   "outputs": [
    {
     "data": {
      "text/plain": [
       "0.96220000000000006"
      ]
     },
     "execution_count": 76,
     "metadata": {},
     "output_type": "execute_result"
    }
   ],
   "source": [
    "clf.score(x_train, y_train)"
   ]
  },
  {
   "cell_type": "code",
   "execution_count": 55,
   "metadata": {},
   "outputs": [
    {
     "data": {
      "text/plain": [
       "array([ 1.,  1.,  0., ...,  0.,  1.,  0.])"
      ]
     },
     "execution_count": 55,
     "metadata": {},
     "output_type": "execute_result"
    }
   ],
   "source": [
    "y_test"
   ]
  },
  {
   "cell_type": "code",
   "execution_count": 78,
   "metadata": {
    "collapsed": true
   },
   "outputs": [],
   "source": [
    "convert(y_test, 'AdaBoost_depth2.txt')"
   ]
  },
  {
   "cell_type": "code",
   "execution_count": 60,
   "metadata": {},
   "outputs": [],
   "source": [
    "convert(clf.predict(x_train), 'AdaBoost_train.txt')"
   ]
  },
  {
   "cell_type": "code",
   "execution_count": null,
   "metadata": {
    "collapsed": true
   },
   "outputs": [],
   "source": []
  }
 ],
 "metadata": {
  "kernelspec": {
   "display_name": "Python [conda root]",
   "language": "python",
   "name": "conda-root-py"
  },
  "language_info": {
   "codemirror_mode": {
    "name": "ipython",
    "version": 3
   },
   "file_extension": ".py",
   "mimetype": "text/x-python",
   "name": "python",
   "nbconvert_exporter": "python",
   "pygments_lexer": "ipython3",
   "version": "3.6.2"
  }
 },
 "nbformat": 4,
 "nbformat_minor": 2
}
